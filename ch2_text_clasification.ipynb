{
 "cells": [
  {
   "cell_type": "code",
   "execution_count": 13,
   "metadata": {},
   "outputs": [
    {
     "name": "stdout",
     "output_type": "stream",
     "text": [
      "There are 278541 datasets currently available on the Hub\n",
      "[DatasetInfo(id='fka/awesome-chatgpt-prompts', author='fka', sha='68ba7694e23014788dcc8ab5afe613824f45a05c', created_at=datetime.datetime(2022, 12, 13, 23, 47, 45, tzinfo=datetime.timezone.utc), last_modified=datetime.datetime(2025, 1, 6, 0, 2, 53, tzinfo=datetime.timezone.utc), private=False, gated=False, disabled=False, downloads=5377, downloads_all_time=None, likes=6790, paperswithcode_id=None, tags=['task_categories:question-answering', 'license:cc0-1.0', 'size_categories:n<1K', 'format:csv', 'modality:text', 'library:datasets', 'library:pandas', 'library:mlcroissant', 'library:polars', 'region:us', 'ChatGPT'], trending_score=92, card_data=None, siblings=None), DatasetInfo(id='cfahlgren1/react-code-instructions', author='cfahlgren1', sha='d85f0682fd5dba9fa26ce46e18dce92becc2ff9d', created_at=datetime.datetime(2024, 8, 26, 3, 35, 11, tzinfo=datetime.timezone.utc), last_modified=datetime.datetime(2025, 1, 10, 15, 23, 9, tzinfo=datetime.timezone.utc), private=False, gated=False, disabled=False, downloads=451, downloads_all_time=None, likes=92, paperswithcode_id=None, tags=['license:mit', 'size_categories:10K<n<100K', 'format:json', 'modality:text', 'library:datasets', 'library:dask', 'library:mlcroissant', 'region:us'], trending_score=54, card_data=None, siblings=None), DatasetInfo(id='agibot-world/AgiBotWorld-Alpha', author='agibot-world', sha='53f3739cc041164023f988d7c7b98f6af3f0d2c0', created_at=datetime.datetime(2024, 12, 19, 9, 37, 11, tzinfo=datetime.timezone.utc), last_modified=datetime.datetime(2025, 1, 9, 2, 59, 3, tzinfo=datetime.timezone.utc), private=False, gated='auto', disabled=False, downloads=8715, downloads_all_time=None, likes=156, paperswithcode_id=None, tags=['task_categories:other', 'language:en', 'size_categories:10M<n<100M', 'format:webdataset', 'modality:text', 'library:datasets', 'library:webdataset', 'library:mlcroissant', 'region:us', 'real-world', 'dual-arm', 'Robotics manipulation'], trending_score=40, card_data=None, siblings=None), DatasetInfo(id='PowerInfer/QWQ-LONGCOT-500K', author='PowerInfer', sha='10a787d967281599e9be6761717147817c018424', created_at=datetime.datetime(2024, 12, 10, 10, 26, 54, tzinfo=datetime.timezone.utc), last_modified=datetime.datetime(2024, 12, 26, 10, 19, 19, tzinfo=datetime.timezone.utc), private=False, gated=False, disabled=False, downloads=538, downloads_all_time=None, likes=88, paperswithcode_id=None, tags=['language:en', 'license:apache-2.0', 'size_categories:100K<n<1M', 'format:json', 'modality:text', 'library:datasets', 'library:pandas', 'library:mlcroissant', 'library:polars', 'region:us'], trending_score=39, card_data=None, siblings=None), DatasetInfo(id='DAMO-NLP-SG/multimodal_textbook', author='DAMO-NLP-SG', sha='e6345e3014780fa85a1390b6783aa0e45d0e9a91', created_at=datetime.datetime(2025, 1, 1, 9, 18, 58, tzinfo=datetime.timezone.utc), last_modified=datetime.datetime(2025, 1, 5, 18, 29, 16, tzinfo=datetime.timezone.utc), private=False, gated=False, disabled=False, downloads=1233, downloads_all_time=None, likes=43, paperswithcode_id=None, tags=['task_categories:text-generation', 'task_categories:summarization', 'language:en', 'license:apache-2.0', 'size_categories:1M<n<10M', 'arxiv:2501.00958', 'region:us', 'Pretraining', 'Interleaved', 'Reasoning'], trending_score=38, card_data=None, siblings=None), DatasetInfo(id='OpenLeecher/lmsys_chat_1m_clean', author='OpenLeecher', sha='e9f2f6838a2dbba87c216bb6bc406e8d7ce0f389', created_at=datetime.datetime(2024, 7, 28, 23, 55, 29, tzinfo=datetime.timezone.utc), last_modified=datetime.datetime(2024, 12, 31, 22, 35, 13, tzinfo=datetime.timezone.utc), private=False, gated=False, disabled=False, downloads=461, downloads_all_time=None, likes=51, paperswithcode_id=None, tags=['language:en', 'size_categories:100K<n<1M', 'format:parquet', 'modality:text', 'library:datasets', 'library:dask', 'library:mlcroissant', 'library:polars', 'region:us'], trending_score=24, card_data=None, siblings=None), DatasetInfo(id='HuggingFaceTB/finemath', author='HuggingFaceTB', sha='8f233cf84cff0b817b3ffb26d5be7370990dd557', created_at=datetime.datetime(2024, 11, 25, 15, 23, 13, tzinfo=datetime.timezone.utc), last_modified=datetime.datetime(2024, 12, 23, 11, 19, 16, tzinfo=datetime.timezone.utc), private=False, gated=False, disabled=False, downloads=34245, downloads_all_time=None, likes=240, paperswithcode_id=None, tags=['license:odc-by', 'size_categories:10M<n<100M', 'format:parquet', 'modality:tabular', 'modality:text', 'library:datasets', 'library:dask', 'library:mlcroissant', 'library:polars', 'doi:10.57967/hf/3847', 'region:us'], trending_score=23, card_data=None, siblings=None), DatasetInfo(id='unitreerobotics/LAFAN1_Retargeting_Dataset', author='unitreerobotics', sha='d4da0161e39e42859148a51bcdf6d74273d2bc01', created_at=datetime.datetime(2024, 12, 19, 6, 28, 48, tzinfo=datetime.timezone.utc), last_modified=datetime.datetime(2024, 12, 24, 4, 15, 25, tzinfo=datetime.timezone.utc), private=False, gated=False, disabled=False, downloads=369, downloads_all_time=None, likes=29, paperswithcode_id=None, tags=['task_categories:robotics', 'modality:3d', 'region:us'], trending_score=21, card_data=None, siblings=None), DatasetInfo(id='FreedomIntelligence/medical-o1-reasoning-SFT', author='FreedomIntelligence', sha='06ac0b8d4960fa84ef55198ea8086266f1e3da81', created_at=datetime.datetime(2024, 12, 28, 3, 29, 8, tzinfo=datetime.timezone.utc), last_modified=datetime.datetime(2025, 1, 4, 13, 1, 37, tzinfo=datetime.timezone.utc), private=False, gated=False, disabled=False, downloads=387, downloads_all_time=None, likes=43, paperswithcode_id=None, tags=['task_categories:question-answering', 'task_categories:text-generation', 'language:en', 'license:apache-2.0', 'size_categories:10K<n<100K', 'format:json', 'modality:text', 'library:datasets', 'library:pandas', 'library:mlcroissant', 'library:polars', 'arxiv:2412.18925', 'region:us', 'medical', 'biology'], trending_score=18, card_data=None, siblings=None), DatasetInfo(id='PowerInfer/LONGCOT-Refine-500K', author='PowerInfer', sha='88bf8410db01197006e572a46c88311720a23577', created_at=datetime.datetime(2024, 12, 31, 1, 48, 12, tzinfo=datetime.timezone.utc), last_modified=datetime.datetime(2025, 1, 2, 6, 10, 43, tzinfo=datetime.timezone.utc), private=False, gated=False, disabled=False, downloads=256, downloads_all_time=None, likes=34, paperswithcode_id=None, tags=['language:en', 'license:apache-2.0', 'size_categories:100K<n<1M', 'format:json', 'modality:text', 'library:datasets', 'library:pandas', 'library:mlcroissant', 'library:polars', 'region:us'], trending_score=18, card_data=None, siblings=None)]\n"
     ]
    }
   ],
   "source": [
    "from huggingface_hub import list_datasets\n",
    "\n",
    "all_datasets = list(list_datasets())  # Convertir el generador a una lista\n",
    "print(f\"There are {len(all_datasets)} datasets currently available on the Hub\")\n",
    "print(all_datasets[:10])  # Muestra los primeros 10 datasets"
   ]
  },
  {
   "cell_type": "code",
   "execution_count": 14,
   "metadata": {},
   "outputs": [
    {
     "name": "stderr",
     "output_type": "stream",
     "text": [
      "Generating train split: 100%|██████████| 16000/16000 [00:00<00:00, 1284822.79 examples/s]\n",
      "Generating validation split: 100%|██████████| 2000/2000 [00:00<00:00, 530085.81 examples/s]\n",
      "Generating test split: 100%|██████████| 2000/2000 [00:00<00:00, 952385.10 examples/s]\n"
     ]
    }
   ],
   "source": [
    "from datasets import load_dataset\n",
    "emotions = load_dataset(\"emotion\")"
   ]
  },
  {
   "cell_type": "code",
   "execution_count": 15,
   "metadata": {},
   "outputs": [
    {
     "data": {
      "text/plain": [
       "DatasetDict({\n",
       "    train: Dataset({\n",
       "        features: ['text', 'label'],\n",
       "        num_rows: 16000\n",
       "    })\n",
       "    validation: Dataset({\n",
       "        features: ['text', 'label'],\n",
       "        num_rows: 2000\n",
       "    })\n",
       "    test: Dataset({\n",
       "        features: ['text', 'label'],\n",
       "        num_rows: 2000\n",
       "    })\n",
       "})"
      ]
     },
     "execution_count": 15,
     "metadata": {},
     "output_type": "execute_result"
    }
   ],
   "source": [
    "emotions"
   ]
  },
  {
   "cell_type": "code",
   "execution_count": 17,
   "metadata": {},
   "outputs": [
    {
     "name": "stdout",
     "output_type": "stream",
     "text": [
      "Dataset({\n",
      "    features: ['text', 'label'],\n",
      "    num_rows: 16000\n",
      "})\n",
      "16000\n"
     ]
    }
   ],
   "source": [
    "train_ds = emotions[\"train\"]\n",
    "print(train_ds)\n",
    "print(len(train_ds))"
   ]
  },
  {
   "cell_type": "code",
   "execution_count": 18,
   "metadata": {},
   "outputs": [
    {
     "name": "stdout",
     "output_type": "stream",
     "text": [
      "{'text': 'i didnt feel humiliated', 'label': 0}\n",
      "{'text': 'i can go from feeling so hopeless to so damned hopeful just from being around someone who cares and is awake', 'label': 0}\n",
      "{'text': 'im grabbing a minute to post i feel greedy wrong', 'label': 3}\n",
      "{'text': 'i am ever feeling nostalgic about the fireplace i will know that it is still on the property', 'label': 2}\n",
      "{'text': 'i am feeling grouchy', 'label': 3}\n"
     ]
    }
   ],
   "source": [
    "for i in range(5):\n",
    "    print(train_ds[i])"
   ]
  },
  {
   "cell_type": "code",
   "execution_count": 23,
   "metadata": {},
   "outputs": [
    {
     "name": "stdout",
     "output_type": "stream",
     "text": [
      "{'text': Value(dtype='string', id=None), 'label': ClassLabel(names=['sadness', 'joy', 'love', 'anger', 'fear', 'surprise'], id=None)}\n",
      "{'text': ['i didnt feel humiliated', 'i can go from feeling so hopeless to so damned hopeful just from being around someone who cares and is awake', 'im grabbing a minute to post i feel greedy wrong', 'i am ever feeling nostalgic about the fireplace i will know that it is still on the property', 'i am feeling grouchy'], 'label': [0, 0, 3, 2, 3]}\n",
      "<class 'datasets.arrow_dataset.Dataset'>\n",
      "<class 'dict'>\n",
      "['i didnt feel humiliated', 'i can go from feeling so hopeless to so damned hopeful just from being around someone who cares and is awake', 'im grabbing a minute to post i feel greedy wrong', 'i am ever feeling nostalgic about the fireplace i will know that it is still on the property', 'i am feeling grouchy']\n"
     ]
    }
   ],
   "source": [
    "print(train_ds.features)\n",
    "print(train_ds[:5])\n",
    "print(type(train_ds))\n",
    "print(type(train_ds[:5]))\n",
    "print(train_ds[\"text\"][:5])"
   ]
  },
  {
   "cell_type": "code",
   "execution_count": 26,
   "metadata": {},
   "outputs": [],
   "source": [
    "# from datasets import load_dataset\n",
    "\n",
    "# load the dataset from a file\n",
    "# load_dataset(\"csv\", data_files=\"my_file.csv\")\n",
    "# load_dataset(\"text\", data_files=\"my_file.txt\")\n",
    "# load_dataset(\"json\", data_files=\"my_file.jsonl\")\n",
    "\n",
    "# emotions_local = load_dataset(\"csv\", data_files=\"train.txt\", sep=\";\",\n",
    "# names=[\"text\", \"label\"])"
   ]
  },
  {
   "cell_type": "code",
   "execution_count": 27,
   "metadata": {},
   "outputs": [
    {
     "data": {
      "text/html": [
       "<div>\n",
       "<style scoped>\n",
       "    .dataframe tbody tr th:only-of-type {\n",
       "        vertical-align: middle;\n",
       "    }\n",
       "\n",
       "    .dataframe tbody tr th {\n",
       "        vertical-align: top;\n",
       "    }\n",
       "\n",
       "    .dataframe thead th {\n",
       "        text-align: right;\n",
       "    }\n",
       "</style>\n",
       "<table border=\"1\" class=\"dataframe\">\n",
       "  <thead>\n",
       "    <tr style=\"text-align: right;\">\n",
       "      <th></th>\n",
       "      <th>text</th>\n",
       "      <th>label</th>\n",
       "    </tr>\n",
       "  </thead>\n",
       "  <tbody>\n",
       "    <tr>\n",
       "      <th>0</th>\n",
       "      <td>i didnt feel humiliated</td>\n",
       "      <td>0</td>\n",
       "    </tr>\n",
       "    <tr>\n",
       "      <th>1</th>\n",
       "      <td>i can go from feeling so hopeless to so damned...</td>\n",
       "      <td>0</td>\n",
       "    </tr>\n",
       "    <tr>\n",
       "      <th>2</th>\n",
       "      <td>im grabbing a minute to post i feel greedy wrong</td>\n",
       "      <td>3</td>\n",
       "    </tr>\n",
       "    <tr>\n",
       "      <th>3</th>\n",
       "      <td>i am ever feeling nostalgic about the fireplac...</td>\n",
       "      <td>2</td>\n",
       "    </tr>\n",
       "    <tr>\n",
       "      <th>4</th>\n",
       "      <td>i am feeling grouchy</td>\n",
       "      <td>3</td>\n",
       "    </tr>\n",
       "  </tbody>\n",
       "</table>\n",
       "</div>"
      ],
      "text/plain": [
       "                                                text  label\n",
       "0                            i didnt feel humiliated      0\n",
       "1  i can go from feeling so hopeless to so damned...      0\n",
       "2   im grabbing a minute to post i feel greedy wrong      3\n",
       "3  i am ever feeling nostalgic about the fireplac...      2\n",
       "4                               i am feeling grouchy      3"
      ]
     },
     "execution_count": 27,
     "metadata": {},
     "output_type": "execute_result"
    }
   ],
   "source": [
    "import pandas as pd\n",
    "emotions.set_format(type=\"pandas\")\n",
    "df = emotions[\"train\"][:]\n",
    "df.head()"
   ]
  },
  {
   "cell_type": "code",
   "execution_count": 29,
   "metadata": {},
   "outputs": [
    {
     "data": {
      "text/html": [
       "<div>\n",
       "<style scoped>\n",
       "    .dataframe tbody tr th:only-of-type {\n",
       "        vertical-align: middle;\n",
       "    }\n",
       "\n",
       "    .dataframe tbody tr th {\n",
       "        vertical-align: top;\n",
       "    }\n",
       "\n",
       "    .dataframe thead th {\n",
       "        text-align: right;\n",
       "    }\n",
       "</style>\n",
       "<table border=\"1\" class=\"dataframe\">\n",
       "  <thead>\n",
       "    <tr style=\"text-align: right;\">\n",
       "      <th></th>\n",
       "      <th>text</th>\n",
       "      <th>label</th>\n",
       "      <th>label_name</th>\n",
       "    </tr>\n",
       "  </thead>\n",
       "  <tbody>\n",
       "    <tr>\n",
       "      <th>0</th>\n",
       "      <td>i didnt feel humiliated</td>\n",
       "      <td>0</td>\n",
       "      <td>sadness</td>\n",
       "    </tr>\n",
       "    <tr>\n",
       "      <th>1</th>\n",
       "      <td>i can go from feeling so hopeless to so damned...</td>\n",
       "      <td>0</td>\n",
       "      <td>sadness</td>\n",
       "    </tr>\n",
       "    <tr>\n",
       "      <th>2</th>\n",
       "      <td>im grabbing a minute to post i feel greedy wrong</td>\n",
       "      <td>3</td>\n",
       "      <td>anger</td>\n",
       "    </tr>\n",
       "    <tr>\n",
       "      <th>3</th>\n",
       "      <td>i am ever feeling nostalgic about the fireplac...</td>\n",
       "      <td>2</td>\n",
       "      <td>love</td>\n",
       "    </tr>\n",
       "    <tr>\n",
       "      <th>4</th>\n",
       "      <td>i am feeling grouchy</td>\n",
       "      <td>3</td>\n",
       "      <td>anger</td>\n",
       "    </tr>\n",
       "  </tbody>\n",
       "</table>\n",
       "</div>"
      ],
      "text/plain": [
       "                                                text  label label_name\n",
       "0                            i didnt feel humiliated      0    sadness\n",
       "1  i can go from feeling so hopeless to so damned...      0    sadness\n",
       "2   im grabbing a minute to post i feel greedy wrong      3      anger\n",
       "3  i am ever feeling nostalgic about the fireplac...      2       love\n",
       "4                               i am feeling grouchy      3      anger"
      ]
     },
     "execution_count": 29,
     "metadata": {},
     "output_type": "execute_result"
    }
   ],
   "source": [
    "def label_int2str(row):\n",
    "    return emotions[\"train\"].features[\"label\"].int2str(row)\n",
    "\n",
    "df[\"label_name\"] = df[\"label\"].apply(label_int2str)\n",
    "df.head()"
   ]
  },
  {
   "cell_type": "code",
   "execution_count": 30,
   "metadata": {},
   "outputs": [
    {
     "data": {
      "image/png": "[encoded data removed]",
      "text/plain": [
       "<Figure size 640x480 with 1 Axes>"
      ]
     },
     "metadata": {},
     "output_type": "display_data"
    }
   ],
   "source": [
    "import matplotlib.pyplot as plt\n",
    "df[\"label_name\"].value_counts(ascending=True).plot.barh()\n",
    "plt.title(\"Frequency of Classes\")\n",
    "plt.show()"
   ]
  },
  {
   "cell_type": "code",
   "execution_count": null,
   "metadata": {},
   "outputs": [],
   "source": []
  }
 ],
 "metadata": {
  "kernelspec": {
   "display_name": ".venv",
   "language": "python",
   "name": "python3"
  },
  "language_info": {
   "codemirror_mode": {
    "name": "ipython",
    "version": 3
   },
   "file_extension": ".py",
   "mimetype": "text/x-python",
   "name": "python",
   "nbconvert_exporter": "python",
   "pygments_lexer": "ipython3",
   "version": "3.12.7"
  }
 },
 "nbformat": 4,
 "nbformat_minor": 2
}
